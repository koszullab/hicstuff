{
 "cells": [
  {
   "cell_type": "markdown",
   "metadata": {},
   "source": [
    "# hicstuff command line interface demo\n",
    "\n",
    "## Preparing the data\n",
    "\n",
    "If using bowtie, genome must first be indexed using bowtie2-build\n",
    "\n",
    "```bash\n",
    "bowtie2-build genome.fa genome\n",
    "```\n",
    "The input reads can be in fastq format, or if in SAM/BAM format if already aligned to the genome.\n"
   ]
  },
  {
   "cell_type": "markdown",
   "metadata": {},
   "source": [
    "## Generating matrices\n",
    "\n",
    "The pipeline command can be used to generate the Hi-C contact map from the input reads.\n",
    "\n",
    "```bash\n",
    "hicstuff pipeline --no-cleanup --enzyme DpnII --filter --threads 12 --plot --iterative --genome genome --output output/ --prefix demo forward.fq reverse.fq\n",
    "```\n",
    "For instance, this will create a directory named \"output\", containing the output files with the prefix \"demo\". The ouput directory will contain two subdirectories; \"tmp\", containing all temporary files and \"plots\", containing figures generated at different stages of the pipeline. Reads will be truncated to 20bp and aligned to the genome by iterative extension. The process is parallelized on 12 threadsd. Hi-C pairs will also be filtered to exclude uninformative religation events."
   ]
  },
  {
   "cell_type": "markdown",
   "metadata": {},
   "source": [
    "## Output files\n",
    "The output files should look like this:\n",
    "```\n",
    "output\n",
    "├── demo.chr.tsv\n",
    "├── demo.frags.tsv\n",
    "├── demo.hicstuff_20190423185220.log\n",
    "├── demo.mat.tsv\n",
    "├── plots\n",
    "│   ├── event_distance.pdf\n",
    "│   ├── event_distribution.pdf\n",
    "│   └── frags_hist.pdf\n",
    "└── tmp\n",
    "    ├── demo.for.sam\n",
    "    ├── demo.genome.fasta\n",
    "    ├── demo.rev.sam\n",
    "    ├── demo.valid_idx_filtered.pairs\n",
    "    ├── demo.valid_idx.pairs\n",
    "    └── demo.valid.pairs\n",
    "```\n",
    "\n",
    "There are 3 output files in the base `output` directory: the contact matrix (demo.mat.tsv), the info_contigs file (demo.chr.tsv) and the fragments_list (demo.frags.tsv). The `tmp` directory contains the fasta genome extracted from the bowtie2 index, the alignments in SAM format and all temporary files in .pairs fomat.\n"
   ]
  },
  {
   "cell_type": "markdown",
   "metadata": {},
   "source": [
    "## Visualizing the matrix\n",
    "\n",
    "The view command can be used to visualise the output Hi-C matrix.\n",
    "\n",
    "```bash\n",
    "hicstuff view --binning 5kb --normalize --frags output/demo.frags.tsv output/demo.mat.tsv\n",
    "```\n",
    "\n",
    "This will show an interactive heatmap using matplotlib. In order to save the matrix to a file instead, one could add `--output output/demo.png`\n"
   ]
  }
 ],
 "metadata": {
  "kernelspec": {
   "display_name": "Python 3",
   "language": "python",
   "name": "python3"
  },
  "language_info": {
   "codemirror_mode": {
    "name": "ipython",
    "version": 3
   },
   "file_extension": ".py",
   "mimetype": "text/x-python",
   "name": "python",
   "nbconvert_exporter": "python",
   "pygments_lexer": "ipython3",
   "version": "3.6.8"
  }
 },
 "nbformat": 4,
 "nbformat_minor": 2
}
