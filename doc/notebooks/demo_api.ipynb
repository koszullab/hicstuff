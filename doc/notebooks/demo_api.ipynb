{
 "cells": [
  {
   "cell_type": "markdown",
   "metadata": {},
   "source": [
    "# hicstuff API demo\n",
    "\n",
    "All steps of hicstuff pipeline and downstream operations can be ran using the python api. The matrix can be generated directly from the reads, just like in the command line or by doing each step separately for fine control.\n"
   ]
  },
  {
   "cell_type": "markdown",
   "metadata": {},
   "source": [
    "## Data preparation\n",
    "If using minimap2, the genome can be in fasta format. If using bowtie2, it must be indexed using bowtie2-build:\n",
    "```bash\n",
    "bowtie2-build genome.fasta genome\n",
    "```\n",
    "The input reads can be in fastq format, or if already aligned to the genome in SAM/BAM format. The pipeline also accepts input in the form of pairs file. The input format is specified using the `start_stage` argument (fastq/sam/pairs/pairs_idx)."
   ]
  },
  {
   "cell_type": "markdown",
   "metadata": {},
   "source": [
    "## Full pipeline using the API\n",
    "The hicstuff.pipeline submodule allows to run all steps at one, in a way identical to the hicstuff pipeline command."
   ]
  },
  {
   "cell_type": "code",
   "execution_count": 7,
   "metadata": {},
   "outputs": [
    {
     "name": "stderr",
     "output_type": "stream",
     "text": [
      "INFO :: ## hicstuff: v1.2.16 log file\n",
      "INFO :: ## date: 2019-04-24 01:42:50\n",
      "INFO :: ## enzyme: DpnII\n",
      "INFO :: ## input1: ../../test_data/sample.reads_for.fastq.gz \n",
      "INFO :: ## input2: ../../test_data/sample.reads_rev.fastq.gz\n",
      "INFO :: ## ref: ../../test_data/genome/seq\n",
      "INFO :: ---\n",
      "INFO :: Genome digested into 564 fragments with a median length of 87.5\n",
      "INFO :: 87% reads (single ends) mapped with Q >= 30 (17442/20000)\n",
      "INFO :: Filtering with thresholds: uncuts=7 loops=9\n",
      "INFO :: Proportion of inter contacts: 4.51% (intra: 233, inter: 11)\n",
      "INFO :: 7356 pairs discarded: Loops: 21, Uncuts: 7335, Weirds: 0\n",
      "INFO :: 244 pairs kept (3.21%)\n",
      "INFO :: 0% PCR duplicates have been filtered out (0 / 244 pairs) \n",
      "INFO :: 244 pairs used to build a contact map of 564 bins with 245 nonzero entries.\n",
      "INFO :: Contact map generated after 0h 0m 1s\n"
     ]
    }
   ],
   "source": [
    "import hicstuff.pipeline as hpi\n",
    "\n",
    "hpi.full_pipeline(input1='../../test_data/sample.reads_for.fastq.gz', \n",
    "                  input2='../../test_data/sample.reads_rev.fastq.gz', \n",
    "                  genome='../../test_data/genome/seq', \n",
    "                  enzyme=\"DpnII\",\n",
    "                  filter_events=True, \n",
    "                  pcr_duplicates=True)"
   ]
  }
 ],
 "metadata": {
  "kernelspec": {
   "display_name": "Python 3",
   "language": "python",
   "name": "python3"
  },
  "language_info": {
   "codemirror_mode": {
    "name": "ipython",
    "version": 3
   },
   "file_extension": ".py",
   "mimetype": "text/x-python",
   "name": "python",
   "nbconvert_exporter": "python",
   "pygments_lexer": "ipython3",
   "version": "3.7.1"
  }
 },
 "nbformat": 4,
 "nbformat_minor": 2
}
